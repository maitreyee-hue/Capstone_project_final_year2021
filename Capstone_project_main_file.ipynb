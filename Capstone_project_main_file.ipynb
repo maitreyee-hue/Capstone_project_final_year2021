{
  "nbformat": 4,
  "nbformat_minor": 0,
  "metadata": {
    "kernelspec": {
      "display_name": "Python 3",
      "language": "python",
      "name": "python3"
    },
    "language_info": {
      "codemirror_mode": {
        "name": "ipython",
        "version": 3
      },
      "file_extension": ".py",
      "mimetype": "text/x-python",
      "name": "python",
      "nbconvert_exporter": "python",
      "pygments_lexer": "ipython3",
      "version": "3.8.5"
    },
    "colab": {
      "name": "Capstone_project_main_file.ipynb",
      "provenance": [],
      "collapsed_sections": []
    }
  },
  "cells": [
    {
      "cell_type": "code",
      "metadata": {
        "id": "KfsYanhpB514",
        "colab": {
          "base_uri": "https://localhost:8080/"
        },
        "outputId": "39dcf994-6ea3-4861-942b-fac93ae903a4"
      },
      "source": [
        "!pip install pandas\n"
      ],
      "execution_count": null,
      "outputs": [
        {
          "output_type": "stream",
          "text": [
            "Requirement already satisfied: pandas in /usr/local/lib/python3.7/dist-packages (1.0.5)\n",
            "Requirement already satisfied: python-dateutil>=2.6.1 in /usr/local/lib/python3.7/dist-packages (from pandas) (2.8.1)\n",
            "Requirement already satisfied: pytz>=2017.2 in /usr/local/lib/python3.7/dist-packages (from pandas) (2018.9)\n",
            "Requirement already satisfied: numpy>=1.13.3 in /usr/local/lib/python3.7/dist-packages (from pandas) (1.19.1)\n",
            "Requirement already satisfied: six>=1.5 in /usr/local/lib/python3.7/dist-packages (from python-dateutil>=2.6.1->pandas) (1.15.0)\n"
          ],
          "name": "stdout"
        }
      ]
    },
    {
      "cell_type": "code",
      "metadata": {
        "id": "5v1bfVebx9qy",
        "colab": {
          "base_uri": "https://localhost:8080/"
        },
        "outputId": "6fceef64-8d15-47bc-bb05-e67055602737"
      },
      "source": [
        "!pip install lazypredict\n",
        "!pip install tweet-preprocessor\n",
        "!pip install -U pip setuptools wheel\n",
        "!pip install spacy\n",
        "nltk.download('stopwords')\n"
      ],
      "execution_count": null,
      "outputs": [
        {
          "output_type": "stream",
          "text": [
            "Requirement already satisfied: lazypredict in /usr/local/lib/python3.7/dist-packages (0.2.9)\n",
            "Requirement already satisfied: tqdm==4.56.0 in /usr/local/lib/python3.7/dist-packages (from lazypredict) (4.56.0)\n",
            "Requirement already satisfied: pytest==5.4.3 in /usr/local/lib/python3.7/dist-packages (from lazypredict) (5.4.3)\n",
            "Requirement already satisfied: joblib==1.0.0 in /usr/local/lib/python3.7/dist-packages (from lazypredict) (1.0.0)\n",
            "Requirement already satisfied: click==7.1.2 in /usr/local/lib/python3.7/dist-packages (from lazypredict) (7.1.2)\n",
            "Requirement already satisfied: six==1.15.0 in /usr/local/lib/python3.7/dist-packages (from lazypredict) (1.15.0)\n",
            "Requirement already satisfied: numpy==1.19.1 in /usr/local/lib/python3.7/dist-packages (from lazypredict) (1.19.1)\n",
            "Requirement already satisfied: scikit-learn==0.23.1 in /usr/local/lib/python3.7/dist-packages (from lazypredict) (0.23.1)\n",
            "Requirement already satisfied: scipy==1.5.4 in /usr/local/lib/python3.7/dist-packages (from lazypredict) (1.5.4)\n",
            "Requirement already satisfied: xgboost==1.1.1 in /usr/local/lib/python3.7/dist-packages (from lazypredict) (1.1.1)\n",
            "Requirement already satisfied: lightgbm==2.3.1 in /usr/local/lib/python3.7/dist-packages (from lazypredict) (2.3.1)\n",
            "Requirement already satisfied: pandas==1.0.5 in /usr/local/lib/python3.7/dist-packages (from lazypredict) (1.0.5)\n",
            "Requirement already satisfied: PyYAML==5.3.1 in /usr/local/lib/python3.7/dist-packages (from lazypredict) (5.3.1)\n",
            "Requirement already satisfied: python-dateutil>=2.6.1 in /usr/local/lib/python3.7/dist-packages (from pandas==1.0.5->lazypredict) (2.8.1)\n",
            "Requirement already satisfied: pytz>=2017.2 in /usr/local/lib/python3.7/dist-packages (from pandas==1.0.5->lazypredict) (2018.9)\n",
            "Requirement already satisfied: importlib-metadata>=0.12 in /usr/local/lib/python3.7/dist-packages (from pytest==5.4.3->lazypredict) (4.0.1)\n",
            "Requirement already satisfied: attrs>=17.4.0 in /usr/local/lib/python3.7/dist-packages (from pytest==5.4.3->lazypredict) (21.2.0)\n",
            "Requirement already satisfied: wcwidth in /usr/local/lib/python3.7/dist-packages (from pytest==5.4.3->lazypredict) (0.2.5)\n",
            "Requirement already satisfied: more-itertools>=4.0.0 in /usr/local/lib/python3.7/dist-packages (from pytest==5.4.3->lazypredict) (8.7.0)\n",
            "Requirement already satisfied: py>=1.5.0 in /usr/local/lib/python3.7/dist-packages (from pytest==5.4.3->lazypredict) (1.10.0)\n",
            "Requirement already satisfied: packaging in /usr/local/lib/python3.7/dist-packages (from pytest==5.4.3->lazypredict) (20.9)\n",
            "Requirement already satisfied: pluggy<1.0,>=0.12 in /usr/local/lib/python3.7/dist-packages (from pytest==5.4.3->lazypredict) (0.13.1)\n",
            "Requirement already satisfied: threadpoolctl>=2.0.0 in /usr/local/lib/python3.7/dist-packages (from scikit-learn==0.23.1->lazypredict) (2.1.0)\n",
            "Requirement already satisfied: zipp>=0.5 in /usr/local/lib/python3.7/dist-packages (from importlib-metadata>=0.12->pytest==5.4.3->lazypredict) (3.4.1)\n",
            "Requirement already satisfied: typing-extensions>=3.6.4 in /usr/local/lib/python3.7/dist-packages (from importlib-metadata>=0.12->pytest==5.4.3->lazypredict) (3.7.4.3)\n",
            "Requirement already satisfied: pyparsing>=2.0.2 in /usr/local/lib/python3.7/dist-packages (from packaging->pytest==5.4.3->lazypredict) (2.4.7)\n",
            "\u001b[33mWARNING: Running pip as root will break packages and permissions. You should install packages reliably by using venv: https://pip.pypa.io/warnings/venv\u001b[0m\n",
            "Requirement already satisfied: tweet-preprocessor in /usr/local/lib/python3.7/dist-packages (0.6.0)\n",
            "\u001b[33mWARNING: Running pip as root will break packages and permissions. You should install packages reliably by using venv: https://pip.pypa.io/warnings/venv\u001b[0m\n",
            "Requirement already satisfied: pip in /usr/local/lib/python3.7/dist-packages (21.1.2)\n",
            "Requirement already satisfied: setuptools in /usr/local/lib/python3.7/dist-packages (57.0.0)\n",
            "Requirement already satisfied: wheel in /usr/local/lib/python3.7/dist-packages (0.36.2)\n",
            "\u001b[33mWARNING: Running pip as root will break packages and permissions. You should install packages reliably by using venv: https://pip.pypa.io/warnings/venv\u001b[0m\n",
            "Requirement already satisfied: spacy in /usr/local/lib/python3.7/dist-packages (2.2.4)\n",
            "Requirement already satisfied: tqdm<5.0.0,>=4.38.0 in /usr/local/lib/python3.7/dist-packages (from spacy) (4.56.0)\n",
            "Requirement already satisfied: setuptools in /usr/local/lib/python3.7/dist-packages (from spacy) (57.0.0)\n",
            "Requirement already satisfied: preshed<3.1.0,>=3.0.2 in /usr/local/lib/python3.7/dist-packages (from spacy) (3.0.5)\n",
            "Requirement already satisfied: requests<3.0.0,>=2.13.0 in /usr/local/lib/python3.7/dist-packages (from spacy) (2.23.0)\n",
            "Requirement already satisfied: blis<0.5.0,>=0.4.0 in /usr/local/lib/python3.7/dist-packages (from spacy) (0.4.1)\n",
            "Requirement already satisfied: thinc==7.4.0 in /usr/local/lib/python3.7/dist-packages (from spacy) (7.4.0)\n",
            "Requirement already satisfied: catalogue<1.1.0,>=0.0.7 in /usr/local/lib/python3.7/dist-packages (from spacy) (1.0.0)\n",
            "Requirement already satisfied: murmurhash<1.1.0,>=0.28.0 in /usr/local/lib/python3.7/dist-packages (from spacy) (1.0.5)\n",
            "Requirement already satisfied: numpy>=1.15.0 in /usr/local/lib/python3.7/dist-packages (from spacy) (1.19.1)\n",
            "Requirement already satisfied: plac<1.2.0,>=0.9.6 in /usr/local/lib/python3.7/dist-packages (from spacy) (1.1.3)\n",
            "Requirement already satisfied: wasabi<1.1.0,>=0.4.0 in /usr/local/lib/python3.7/dist-packages (from spacy) (0.8.2)\n",
            "Requirement already satisfied: cymem<2.1.0,>=2.0.2 in /usr/local/lib/python3.7/dist-packages (from spacy) (2.0.5)\n",
            "Requirement already satisfied: srsly<1.1.0,>=1.0.2 in /usr/local/lib/python3.7/dist-packages (from spacy) (1.0.5)\n",
            "Requirement already satisfied: importlib-metadata>=0.20 in /usr/local/lib/python3.7/dist-packages (from catalogue<1.1.0,>=0.0.7->spacy) (4.0.1)\n",
            "Requirement already satisfied: zipp>=0.5 in /usr/local/lib/python3.7/dist-packages (from importlib-metadata>=0.20->catalogue<1.1.0,>=0.0.7->spacy) (3.4.1)\n",
            "Requirement already satisfied: typing-extensions>=3.6.4 in /usr/local/lib/python3.7/dist-packages (from importlib-metadata>=0.20->catalogue<1.1.0,>=0.0.7->spacy) (3.7.4.3)\n",
            "Requirement already satisfied: urllib3!=1.25.0,!=1.25.1,<1.26,>=1.21.1 in /usr/local/lib/python3.7/dist-packages (from requests<3.0.0,>=2.13.0->spacy) (1.24.3)\n",
            "Requirement already satisfied: chardet<4,>=3.0.2 in /usr/local/lib/python3.7/dist-packages (from requests<3.0.0,>=2.13.0->spacy) (3.0.4)\n",
            "Requirement already satisfied: idna<3,>=2.5 in /usr/local/lib/python3.7/dist-packages (from requests<3.0.0,>=2.13.0->spacy) (2.10)\n",
            "Requirement already satisfied: certifi>=2017.4.17 in /usr/local/lib/python3.7/dist-packages (from requests<3.0.0,>=2.13.0->spacy) (2020.12.5)\n",
            "\u001b[33mWARNING: Running pip as root will break packages and permissions. You should install packages reliably by using venv: https://pip.pypa.io/warnings/venv\u001b[0m\n",
            "[nltk_data] Downloading package stopwords to /root/nltk_data...\n",
            "[nltk_data]   Package stopwords is already up-to-date!\n"
          ],
          "name": "stdout"
        },
        {
          "output_type": "execute_result",
          "data": {
            "text/plain": [
              "True"
            ]
          },
          "metadata": {
            "tags": []
          },
          "execution_count": 31
        }
      ]
    },
    {
      "cell_type": "code",
      "metadata": {
        "id": "mKHXvt2yj6Tn"
      },
      "source": [
        "import nltk"
      ],
      "execution_count": null,
      "outputs": []
    },
    {
      "cell_type": "code",
      "metadata": {
        "id": "sySRY2XvxWl3",
        "colab": {
          "base_uri": "https://localhost:8080/"
        },
        "outputId": "c82b3feb-da0f-424e-ef47-dfc7d43b5025"
      },
      "source": [
        "import pandas as pd\n",
        "\n",
        "import string\n",
        "import re\n",
        "import nltk\n",
        "from nltk.sentiment.vader import SentimentIntensityAnalyzer\n",
        "import numpy as np\n",
        "from sklearn import svm\n",
        "from sklearn.ensemble import RandomForestClassifier\n",
        "from sklearn.model_selection import train_test_split\n",
        "from sklearn.tree import DecisionTreeClassifier\n",
        "from sklearn.neighbors import KNeighborsClassifier\n",
        "from sklearn.naive_bayes import GaussianNB\n",
        "from lazypredict.Supervised import LazyClassifier\n",
        "import preprocessor as p\n",
        "from sklearn.metrics import accuracy_score\n",
        "import matplotlib.pyplot as plt\n",
        "import seaborn as sns\n",
        "import spacy \n",
        "\n",
        "#nlp = spacy.load('en_core_web_sm')\n",
        "stopword = nltk.corpus.stopwords.words('english')\n",
        "ps = nltk.PorterStemmer()\n",
        "%matplotlib inline"
      ],
      "execution_count": null,
      "outputs": [
        {
          "output_type": "stream",
          "text": [
            "/usr/local/lib/python3.7/dist-packages/nltk/twitter/__init__.py:20: UserWarning: The twython library has not been installed. Some functionality from the twitter package will not be available.\n",
            "  warnings.warn(\"The twython library has not been installed. \"\n",
            "/usr/local/lib/python3.7/dist-packages/sklearn/utils/deprecation.py:143: FutureWarning: The sklearn.utils.testing module is  deprecated in version 0.22 and will be removed in version 0.24. The corresponding classes / functions should instead be imported from sklearn.utils. Anything that cannot be imported from sklearn.utils is now part of the private API.\n",
            "  warnings.warn(message, FutureWarning)\n"
          ],
          "name": "stderr"
        }
      ]
    },
    {
      "cell_type": "code",
      "metadata": {
        "id": "xwuJcnDj10lZ",
        "colab": {
          "base_uri": "https://localhost:8080/"
        },
        "outputId": "93290274-7ee8-4246-e3f6-de1e2ca23127"
      },
      "source": [
        "from google.colab import drive\n",
        "drive.mount('/gddrive')"
      ],
      "execution_count": null,
      "outputs": [
        {
          "output_type": "stream",
          "text": [
            "Mounted at /gddrive\n"
          ],
          "name": "stdout"
        }
      ]
    },
    {
      "cell_type": "code",
      "metadata": {
        "id": "Daz_4drw24vm"
      },
      "source": [
        "# df = pd.read_csv('/gddrive/MyDrive/Colab Notebooks/Marathi_tweet_sentiment/covid19.csv')\n",
        "df = pd.read_csv('/content/pred_data1.csv')"
      ],
      "execution_count": null,
      "outputs": []
    },
    {
      "cell_type": "code",
      "metadata": {
        "id": "C9KcXgX-xWmG"
      },
      "source": [
        "clean_data =df.iloc[:,0].apply(lambda x: p.clean(x))"
      ],
      "execution_count": null,
      "outputs": []
    },
    {
      "cell_type": "markdown",
      "metadata": {
        "id": "0Hi2ZgtgguXC"
      },
      "source": [
        "Data Preprocessing/Module 3"
      ]
    },
    {
      "cell_type": "code",
      "metadata": {
        "id": "tzDy2NrPxWmG"
      },
      "source": [
        "# data clean methods\n",
        "stopword=stopword+['brt','xfxfxcxe','xfxfxxvaccin']\n",
        "\n",
        "def clean_text(text):\n",
        "    text_lc = \"\".join([word.lower() for word in text if word not in string.punctuation]) # remove puntuation\n",
        "    text_rc = re.sub('[0-9]+', '', text_lc)\n",
        "    #after tweepy preprocessing the colon symbol left remain after    \n",
        "    tweet = re.sub(r':', '', text_rc)\n",
        "    tweet = re.sub(r'‚Ä¶', '', tweet)\n",
        "    #replace consecutive non-ASCII characters with a space\n",
        "    tweet = re.sub(r'[^\\x00-\\x7F]+',' ', tweet)\n",
        "    #filter using NLTK library append it to a string\n",
        "    tokens = re.split('\\W+', tweet)    # tokenization\n",
        "    text = [word for word in tokens if word not in stopword]  # remove stopwords\n",
        "    return text"
      ],
      "execution_count": null,
      "outputs": []
    },
    {
      "cell_type": "code",
      "metadata": {
        "id": "ROtjOB2ExWmH"
      },
      "source": [
        "df['clean_tweets'] = clean_data.apply(lambda x:clean_text(x))\n",
        "df['clean_tweets']= df['clean_tweets'].apply(lambda x: ' '.join(x))"
      ],
      "execution_count": null,
      "outputs": []
    },
    {
      "cell_type": "code",
      "metadata": {
        "colab": {
          "base_uri": "https://localhost:8080/",
          "height": 408
        },
        "id": "EGh9AH73xWmI",
        "outputId": "246763bb-c6d0-4b9d-d1df-5a5d1b7a6cb1"
      },
      "source": [
        "df"
      ],
      "execution_count": null,
      "outputs": [
        {
          "output_type": "execute_result",
          "data": {
            "text/html": [
              "<div>\n",
              "<style scoped>\n",
              "    .dataframe tbody tr th:only-of-type {\n",
              "        vertical-align: middle;\n",
              "    }\n",
              "\n",
              "    .dataframe tbody tr th {\n",
              "        vertical-align: top;\n",
              "    }\n",
              "\n",
              "    .dataframe thead th {\n",
              "        text-align: right;\n",
              "    }\n",
              "</style>\n",
              "<table border=\"1\" class=\"dataframe\">\n",
              "  <thead>\n",
              "    <tr style=\"text-align: right;\">\n",
              "      <th style=\"min-width: {};\"></th>\n",
              "      <th style=\"min-width: {};\">0</th>\n",
              "      <th style=\"min-width: {};\">clean_tweets</th>\n",
              "      <th style=\"min-width: {};\">label</th>\n",
              "    </tr>\n",
              "  </thead>\n",
              "  <tbody>\n",
              "    <tr>\n",
              "      <th>0</th>\n",
              "      <td>VIDEO: Gulabrao Patil | Koronakalata not right...</td>\n",
              "      <td>video gulabrao patil koronakalata right khadse...</td>\n",
              "      <td>0</td>\n",
              "    </tr>\n",
              "    <tr>\n",
              "      <th>1</th>\n",
              "      <td>Corona: Corona, but the new strain of origin a...</td>\n",
              "      <td>corona corona new strain origin amaravatituna ...</td>\n",
              "      <td>0</td>\n",
              "    </tr>\n",
              "    <tr>\n",
              "      <th>2</th>\n",
              "      <td>Corona Vaccine Update: US expert said, kovida ...</td>\n",
              "      <td>corona vaccine update us expert said kovida co...</td>\n",
              "      <td>0</td>\n",
              "    </tr>\n",
              "    <tr>\n",
              "      <th>3</th>\n",
              "      <td>Hundreds of new Parliament's work in strict lo...</td>\n",
              "      <td>hundreds new parliaments work strict lockdown ...</td>\n",
              "      <td>0</td>\n",
              "    </tr>\n",
              "    <tr>\n",
              "      <th>4</th>\n",
              "      <td>Corona Disaster: No doctor, no oxygen ... Delh...</td>\n",
              "      <td>corona disaster doctor oxygen delhi hospitals ...</td>\n",
              "      <td>2</td>\n",
              "    </tr>\n",
              "    <tr>\n",
              "      <th>...</th>\n",
              "      <td>...</td>\n",
              "      <td>...</td>\n",
              "      <td>...</td>\n",
              "    </tr>\n",
              "    <tr>\n",
              "      <th>3495</th>\n",
              "      <td>Radio Nagpur headlines evening date 27.04.2021...</td>\n",
              "      <td>radio nagpur headlines evening date via</td>\n",
              "      <td>0</td>\n",
              "    </tr>\n",
              "    <tr>\n",
              "      <th>3496</th>\n",
              "      <td>Radio Nagpur headlines evening date 27.04.2021...</td>\n",
              "      <td>radio nagpur headlines evening date via</td>\n",
              "      <td>0</td>\n",
              "    </tr>\n",
              "    <tr>\n",
              "      <th>3497</th>\n",
              "      <td>You see your work at the start of the DR jipar...</td>\n",
              "      <td>see work start dr jiparata flap nagpur see pro...</td>\n",
              "      <td>1</td>\n",
              "    </tr>\n",
              "    <tr>\n",
              "      <th>3498</th>\n",
              "      <td>Today, the district has found a new # # karona...</td>\n",
              "      <td>today district found new karonabadhita thousan...</td>\n",
              "      <td>1</td>\n",
              "    </tr>\n",
              "    <tr>\n",
              "      <th>3499</th>\n",
              "      <td>Update mobile number, vijasevece get SMS! Aura...</td>\n",
              "      <td>update mobile number vijasevece get sms aurang...</td>\n",
              "      <td>1</td>\n",
              "    </tr>\n",
              "  </tbody>\n",
              "</table>\n",
              "<p>3500 rows × 3 columns</p>\n",
              "</div>"
            ],
            "text/plain": [
              "                                                      0  ... label\n",
              "0     VIDEO: Gulabrao Patil | Koronakalata not right...  ...     0\n",
              "1     Corona: Corona, but the new strain of origin a...  ...     0\n",
              "2     Corona Vaccine Update: US expert said, kovida ...  ...     0\n",
              "3     Hundreds of new Parliament's work in strict lo...  ...     0\n",
              "4     Corona Disaster: No doctor, no oxygen ... Delh...  ...     2\n",
              "...                                                 ...  ...   ...\n",
              "3495  Radio Nagpur headlines evening date 27.04.2021...  ...     0\n",
              "3496  Radio Nagpur headlines evening date 27.04.2021...  ...     0\n",
              "3497  You see your work at the start of the DR jipar...  ...     1\n",
              "3498  Today, the district has found a new # # karona...  ...     1\n",
              "3499  Update mobile number, vijasevece get SMS! Aura...  ...     1\n",
              "\n",
              "[3500 rows x 3 columns]"
            ]
          },
          "metadata": {
            "tags": []
          },
          "execution_count": 10
        }
      ]
    },
    {
      "cell_type": "code",
      "metadata": {
        "colab": {
          "base_uri": "https://localhost:8080/",
          "height": 198
        },
        "id": "3T9yifj8wRtx",
        "outputId": "65f30369-7998-473d-8f1c-a778115cb7d8"
      },
      "source": [
        "df.head()"
      ],
      "execution_count": null,
      "outputs": [
        {
          "output_type": "execute_result",
          "data": {
            "text/html": [
              "<div>\n",
              "<style scoped>\n",
              "    .dataframe tbody tr th:only-of-type {\n",
              "        vertical-align: middle;\n",
              "    }\n",
              "\n",
              "    .dataframe tbody tr th {\n",
              "        vertical-align: top;\n",
              "    }\n",
              "\n",
              "    .dataframe thead th {\n",
              "        text-align: right;\n",
              "    }\n",
              "</style>\n",
              "<table border=\"1\" class=\"dataframe\">\n",
              "  <thead>\n",
              "    <tr style=\"text-align: right;\">\n",
              "      <th style=\"min-width: {};\"></th>\n",
              "      <th style=\"min-width: {};\">0</th>\n",
              "      <th style=\"min-width: {};\">clean_tweets</th>\n",
              "      <th style=\"min-width: {};\">label</th>\n",
              "    </tr>\n",
              "  </thead>\n",
              "  <tbody>\n",
              "    <tr>\n",
              "      <th>0</th>\n",
              "      <td>VIDEO: Gulabrao Patil | Koronakalata not right...</td>\n",
              "      <td>video gulabrao patil koronakalata right khadse...</td>\n",
              "      <td>0</td>\n",
              "    </tr>\n",
              "    <tr>\n",
              "      <th>1</th>\n",
              "      <td>Corona: Corona, but the new strain of origin a...</td>\n",
              "      <td>corona corona new strain origin amaravatituna ...</td>\n",
              "      <td>0</td>\n",
              "    </tr>\n",
              "    <tr>\n",
              "      <th>2</th>\n",
              "      <td>Corona Vaccine Update: US expert said, kovida ...</td>\n",
              "      <td>corona vaccine update us expert said kovida co...</td>\n",
              "      <td>0</td>\n",
              "    </tr>\n",
              "    <tr>\n",
              "      <th>3</th>\n",
              "      <td>Hundreds of new Parliament's work in strict lo...</td>\n",
              "      <td>hundreds new parliaments work strict lockdown ...</td>\n",
              "      <td>0</td>\n",
              "    </tr>\n",
              "    <tr>\n",
              "      <th>4</th>\n",
              "      <td>Corona Disaster: No doctor, no oxygen ... Delh...</td>\n",
              "      <td>corona disaster doctor oxygen delhi hospitals ...</td>\n",
              "      <td>2</td>\n",
              "    </tr>\n",
              "  </tbody>\n",
              "</table>\n",
              "</div>"
            ],
            "text/plain": [
              "                                                   0  ... label\n",
              "0  VIDEO: Gulabrao Patil | Koronakalata not right...  ...     0\n",
              "1  Corona: Corona, but the new strain of origin a...  ...     0\n",
              "2  Corona Vaccine Update: US expert said, kovida ...  ...     0\n",
              "3  Hundreds of new Parliament's work in strict lo...  ...     0\n",
              "4  Corona Disaster: No doctor, no oxygen ... Delh...  ...     2\n",
              "\n",
              "[5 rows x 3 columns]"
            ]
          },
          "metadata": {
            "tags": []
          },
          "execution_count": 11
        }
      ]
    },
    {
      "cell_type": "code",
      "metadata": {
        "colab": {
          "base_uri": "https://localhost:8080/",
          "height": 296
        },
        "id": "QhgqUXBjhEmV",
        "outputId": "f71761af-4434-4e3f-865f-cc64fb4d5f0e"
      },
      "source": [
        "sns.countplot(df['label'])"
      ],
      "execution_count": null,
      "outputs": [
        {
          "output_type": "execute_result",
          "data": {
            "text/plain": [
              "<matplotlib.axes._subplots.AxesSubplot at 0x7f4922fff3d0>"
            ]
          },
          "metadata": {
            "tags": []
          },
          "execution_count": 12
        },
        {
          "output_type": "display_data",
          "data": {
            "image/png": "[encoded data removed]",
            "text/plain": [
              "<Figure size 432x288 with 1 Axes>"
            ]
          },
          "metadata": {
            "tags": [],
            "needs_background": "light"
          }
        }
      ]
    },
    {
      "cell_type": "code",
      "metadata": {
        "id": "WGBvfvVohJsS"
      },
      "source": [
        "from sklearn.model_selection import train_test_split\n",
        "from sklearn.svm import LinearSVC\n",
        "from sklearn.metrics import accuracy_score,classification_report,confusion_matrix\n",
        "from sklearn.feature_extraction.text import TfidfVectorizer"
      ],
      "execution_count": null,
      "outputs": []
    },
    {
      "cell_type": "code",
      "metadata": {
        "colab": {
          "base_uri": "https://localhost:8080/"
        },
        "id": "hsLSOjoAruH3",
        "outputId": "80cf3b31-7666-4bb5-db83-9691421c9bf6"
      },
      "source": [
        "df['clean_tweets']"
      ],
      "execution_count": null,
      "outputs": [
        {
          "output_type": "execute_result",
          "data": {
            "text/plain": [
              "0       video gulabrao patil koronakalata right khadse...\n",
              "1       corona corona new strain origin amaravatituna ...\n",
              "2       corona vaccine update us expert said kovida co...\n",
              "3       hundreds new parliaments work strict lockdown ...\n",
              "4       corona disaster doctor oxygen delhi hospitals ...\n",
              "                              ...                        \n",
              "3495              radio nagpur headlines evening date via\n",
              "3496              radio nagpur headlines evening date via\n",
              "3497    see work start dr jiparata flap nagpur see pro...\n",
              "3498    today district found new karonabadhita thousan...\n",
              "3499    update mobile number vijasevece get sms aurang...\n",
              "Name: clean_tweets, Length: 3500, dtype: object"
            ]
          },
          "metadata": {
            "tags": []
          },
          "execution_count": 14
        }
      ]
    },
    {
      "cell_type": "markdown",
      "metadata": {
        "id": "zdObGayVgbuq"
      },
      "source": [
        "Build Algorithm & Predict Accurcy/Module 4"
      ]
    },
    {
      "cell_type": "code",
      "metadata": {
        "colab": {
          "base_uri": "https://localhost:8080/"
        },
        "id": "LR231abxaSiA",
        "outputId": "233cf9d4-060b-4954-f49c-81d6f0f813a7"
      },
      "source": [
        "X=df['clean_tweets']\n",
        "y=df['label']\n",
        "tfidf=TfidfVectorizer()\n",
        "X=tfidf.fit_transform(X)\n",
        "X_train,X_test,y_train,y_test=train_test_split(X,y,test_size=0.2,random_state=0,stratify=y)\n",
        "print('shape of x',X.shape)\n",
        "clf=LinearSVC()\n",
        "clf.fit(X_train,y_train)\n",
        "y_pred=clf.predict(X_test)\n",
        "print(classification_report(y_test,y_pred))\n"
      ],
      "execution_count": null,
      "outputs": [
        {
          "output_type": "stream",
          "text": [
            "shape of x (3500, 4493)\n",
            "              precision    recall  f1-score   support\n",
            "\n",
            "           0       0.88      0.98      0.93       294\n",
            "           1       0.98      0.91      0.94       246\n",
            "           2       0.93      0.86      0.89       160\n",
            "\n",
            "    accuracy                           0.92       700\n",
            "   macro avg       0.93      0.91      0.92       700\n",
            "weighted avg       0.93      0.92      0.92       700\n",
            "\n"
          ],
          "name": "stdout"
        }
      ]
    },
    {
      "cell_type": "code",
      "metadata": {
        "id": "b0YzCVv7ant2"
      },
      "source": [
        "def run_svm(df):\n",
        "    X=df['clean_tweets']\n",
        "    y=df['label']\n",
        "    tfidf=TfidfVectorizer()\n",
        "    X=tfidf.fit_transform(X)\n",
        "    X_train,X_test,y_train,y_test=train_test_split(X,y,test_size=0.2,random_state=0,stratify=y)\n",
        "    print('shape of x',X.shape)\n",
        "    clf=LinearSVC()\n",
        "    clf.fit(X_train,y_train)\n",
        "    y_pred=clf.predict(X_test)\n",
        "    print(classification_report(y_test,y_pred))\n",
        "    \n",
        "    return tfidf,clf\n",
        "    "
      ],
      "execution_count": null,
      "outputs": []
    },
    {
      "cell_type": "code",
      "metadata": {
        "colab": {
          "base_uri": "https://localhost:8080/"
        },
        "id": "nctM8nasax9m",
        "outputId": "af3e306f-66a1-47b1-a29b-12def967fd60"
      },
      "source": [
        "%%time\n",
        "tfidf,clf=run_svm(df)"
      ],
      "execution_count": null,
      "outputs": [
        {
          "output_type": "stream",
          "text": [
            "shape of x (3500, 4493)\n",
            "              precision    recall  f1-score   support\n",
            "\n",
            "           0       0.88      0.98      0.93       294\n",
            "           1       0.98      0.91      0.94       246\n",
            "           2       0.93      0.86      0.89       160\n",
            "\n",
            "    accuracy                           0.92       700\n",
            "   macro avg       0.93      0.91      0.92       700\n",
            "weighted avg       0.93      0.92      0.92       700\n",
            "\n",
            "CPU times: user 72.9 ms, sys: 575 µs, total: 73.5 ms\n",
            "Wall time: 75.2 ms\n"
          ],
          "name": "stdout"
        }
      ]
    },
    {
      "cell_type": "code",
      "metadata": {
        "colab": {
          "base_uri": "https://localhost:8080/"
        },
        "id": "_ZBWkapabAOw",
        "outputId": "1fc13dfb-c6db-4f7d-9bbd-1d2e3b7c8357"
      },
      "source": [
        "x=df['clean_tweets']\n",
        "clf.predict(tfidf.transform(x))\n"
      ],
      "execution_count": null,
      "outputs": [
        {
          "output_type": "execute_result",
          "data": {
            "text/plain": [
              "array([0, 0, 0, ..., 1, 1, 1])"
            ]
          },
          "metadata": {
            "tags": []
          },
          "execution_count": 18
        }
      ]
    },
    {
      "cell_type": "code",
      "metadata": {
        "colab": {
          "base_uri": "https://localhost:8080/"
        },
        "id": "ZHlQhBycKMgT",
        "outputId": "1d2f1f35-5df3-419f-9226-09389de11f6b"
      },
      "source": [
        "rf = RandomForestClassifier()\n",
        "rf.fit(X_train,y_train)\n",
        "predict=rf.predict(X_test)\n",
        "accuracy_score(y_test,predict)\n"
      ],
      "execution_count": null,
      "outputs": [
        {
          "output_type": "execute_result",
          "data": {
            "text/plain": [
              "0.9185714285714286"
            ]
          },
          "metadata": {
            "tags": []
          },
          "execution_count": 19
        }
      ]
    },
    {
      "cell_type": "code",
      "metadata": {
        "colab": {
          "base_uri": "https://localhost:8080/"
        },
        "id": "Jmd6C_-uLoWh",
        "outputId": "8a4139d5-8ed3-44fa-e3e5-bcda196c4183"
      },
      "source": [
        "dt = DecisionTreeClassifier()\n",
        "dt.fit(X_train,y_train)\n",
        "predict=dt.predict(X_test)\n",
        "accuracy_score(y_test,predict)"
      ],
      "execution_count": null,
      "outputs": [
        {
          "output_type": "execute_result",
          "data": {
            "text/plain": [
              "0.9228571428571428"
            ]
          },
          "metadata": {
            "tags": []
          },
          "execution_count": 20
        }
      ]
    },
    {
      "cell_type": "code",
      "metadata": {
        "colab": {
          "base_uri": "https://localhost:8080/"
        },
        "id": "rPv6JNCwNOl0",
        "outputId": "9849cf0f-8ced-4a1b-cbf3-3e5596a50f41"
      },
      "source": [
        "\n",
        "from sklearn.linear_model import LogisticRegression\n",
        "logmodel = LogisticRegression(random_state=400 )\n",
        "logmodel.fit(X_train,y_train)\n",
        "log_predictions = logmodel.predict(X_test)\n",
        "from sklearn.metrics import confusion_matrix,f1_score\n",
        "confusion_matrix(y_test,log_predictions)"
      ],
      "execution_count": null,
      "outputs": [
        {
          "output_type": "execute_result",
          "data": {
            "text/plain": [
              "array([[285,   4,   5],\n",
              "       [ 30, 210,   6],\n",
              "       [ 33,   5, 122]])"
            ]
          },
          "metadata": {
            "tags": []
          },
          "execution_count": 21
        }
      ]
    },
    {
      "cell_type": "code",
      "metadata": {
        "colab": {
          "base_uri": "https://localhost:8080/"
        },
        "id": "s6RvRaNdOfzQ",
        "outputId": "67937a27-453e-4f47-e21f-c9a0eb9fe68e"
      },
      "source": [
        "from sklearn.metrics import accuracy_score\n",
        "accuracy_score(y_test,log_predictions)"
      ],
      "execution_count": null,
      "outputs": [
        {
          "output_type": "execute_result",
          "data": {
            "text/plain": [
              "0.8814285714285715"
            ]
          },
          "metadata": {
            "tags": []
          },
          "execution_count": 22
        }
      ]
    },
    {
      "cell_type": "code",
      "metadata": {
        "colab": {
          "base_uri": "https://localhost:8080/",
          "height": 265
        },
        "id": "-tahwRzqgZIx",
        "outputId": "2001142c-a169-42f6-c657-eeef3899703a"
      },
      "source": [
        "sns.set_style('darkgrid')\n",
        "x_axis=['SVM','RandomForest','DescisionTree','logisticRegression']\n",
        "y_axis=[92.42,91.85,92.28,88.14]\n",
        "sns.barplot(x_axis,y_axis)\n",
        "plt.show()"
      ],
      "execution_count": null,
      "outputs": [
        {
          "output_type": "display_data",
          "data": {
            "image/png": "[encoded data removed]",
            "text/plain": [
              "<Figure size 432x288 with 1 Axes>"
            ]
          },
          "metadata": {
            "tags": []
          }
        }
      ]
    },
    {
      "cell_type": "markdown",
      "metadata": {
        "id": "zWlChanPgFYc"
      },
      "source": [
        "Module Building/Module 5"
      ]
    },
    {
      "cell_type": "code",
      "metadata": {
        "colab": {
          "base_uri": "https://localhost:8080/"
        },
        "id": "EFODupU_c1I0",
        "outputId": "2ad24f3d-a521-492b-abfe-ff44a99f696d"
      },
      "source": [
        "import joblib\n",
        "\n",
        "rf = RandomForestClassifier()\n",
        "rf.fit(X_train,y_train)\n",
        "\n",
        "# save the model to disk\n",
        "filename = 'RF_finalized_model.sav'\n",
        "joblib.dump(rf, filename)\n",
        " \n"
      ],
      "execution_count": null,
      "outputs": [
        {
          "output_type": "execute_result",
          "data": {
            "text/plain": [
              "['RF_finalized_model.sav']"
            ]
          },
          "metadata": {
            "tags": []
          },
          "execution_count": 32
        }
      ]
    },
    {
      "cell_type": "code",
      "metadata": {
        "colab": {
          "base_uri": "https://localhost:8080/"
        },
        "id": "nOFf8lQ3c45I",
        "outputId": "1bcd9890-4c1f-4e8f-a627-33cea4d07428"
      },
      "source": [
        "# load the model from disk\n",
        "loaded_model = joblib.load(filename)\n",
        "result = loaded_model.score(X_test, y_test)\n",
        "print(result)"
      ],
      "execution_count": null,
      "outputs": [
        {
          "output_type": "stream",
          "text": [
            "0.9185714285714286\n"
          ],
          "name": "stdout"
        }
      ]
    },
    {
      "cell_type": "code",
      "metadata": {
        "id": "haU_wVZ7ecT9"
      },
      "source": [
        "#TF-IDF\n"
      ],
      "execution_count": null,
      "outputs": []
    },
    {
      "cell_type": "code",
      "metadata": {
        "id": "qhaOrENhdHwz"
      },
      "source": [
        "from sklearn.feature_extraction.text import TfidfVectorizer\n",
        "\n",
        "tfidfVectorizer = TfidfVectorizer() \n",
        "tfidfVector = tfidfVectorizer.fit_transform(df['clean_tweets'])"
      ],
      "execution_count": null,
      "outputs": []
    },
    {
      "cell_type": "code",
      "metadata": {
        "colab": {
          "base_uri": "https://localhost:8080/"
        },
        "id": "PCIJ-Qcuvdk8",
        "outputId": "8427f183-ffda-43ff-8cda-4f19f9a8e1bc"
      },
      "source": [
        "text = 'RT @zlj517: Facing #COVID19, the British government suggested #HerdImmunity by infection regardless of the right to life and health. Across\\xe2\\x80\\xa6'\n",
        "\n",
        "def predict_sentiment(text):\n",
        "  test_doc = ' '.join(clean_text(text))\n",
        "  pd.DataFrame([test_doc]).iloc[0]\n",
        "  test_vect = tfidfVectorizer.transform(pd.DataFrame([test_doc]).iloc[0])\n",
        "  test_tfidf = pd.DataFrame(test_vect.toarray(), columns=tfidfVectorizer.get_feature_names()).iloc[:,0:]\n",
        "  test_predict = rf.predict(test_tfidf)[0]\n",
        "  print('Tweet: ',text,' \\nPredicted sentiment of tweet: ',test_predict)\n",
        "\n",
        "predict_sentiment(text)"
      ],
      "execution_count": null,
      "outputs": [
        {
          "output_type": "stream",
          "text": [
            "Tweet:  RT @zlj517: Facing #COVID19, the British government suggested #HerdImmunity by infection regardless of the right to life and health. Acrossâ¦  \n",
            "Predicted sentiment of tweet:  0\n"
          ],
          "name": "stdout"
        }
      ]
    }
  ]
}