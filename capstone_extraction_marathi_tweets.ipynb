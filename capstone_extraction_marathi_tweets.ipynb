{
  "nbformat": 4,
  "nbformat_minor": 0,
  "metadata": {
    "colab": {
      "name": "capstone_extraction_marathi_tweets.ipynb",
      "provenance": [],
      "collapsed_sections": []
    },
    "kernelspec": {
      "display_name": "Python 3",
      "language": "python",
      "name": "python3"
    },
    "language_info": {
      "codemirror_mode": {
        "name": "ipython",
        "version": 3
      },
      "file_extension": ".py",
      "mimetype": "text/x-python",
      "name": "python",
      "nbconvert_exporter": "python",
      "pygments_lexer": "ipython3",
      "version": "3.7.1"
    }
  },
  "cells": [
    {
      "cell_type": "markdown",
      "metadata": {
        "id": "JuQpTrI2_WDo"
      },
      "source": [
        "Extraction of Marathi tweets/Module1"
      ]
    },
    {
      "cell_type": "code",
      "metadata": {
        "id": "bwNpnOS1MPf0"
      },
      "source": [
        "import requests\n",
        "import bs4\n",
        "from bs4 import BeautifulSoup\n",
        "from requests_oauthlib import OAuth1\n",
        "import pandas as pd"
      ],
      "execution_count": null,
      "outputs": []
    },
    {
      "cell_type": "code",
      "metadata": {
        "id": "vO-FneIVMPhQ"
      },
      "source": [
        "consumer_key = '7dzK7q6IrWCcq5Kjo3q5YDrGJ'\n",
        "consumer_secret = 'd52zgvIjSq53L4TIltmpbN4iE0vZtrZAVkdz0Fw2YHdlOqwMS7'\n",
        "access_token = '948413893038125056-u5qBXf9dtb4aD4MJKewEIk75N7Tf40B'\n",
        "access_token_secret= '6pdoGlxNDFgHvB3Y1tTJVTTD3UXddCSf4ABBZVMh1xPxC' \n",
        "    \n",
        "auth_params = {\n",
        "    'app_key':'7dzK7q6IrWCcq5Kjo3q5YDrGJ',\n",
        "    'app_secret':'d52zgvIjSq53L4TIltmpbN4iE0vZtrZAVkdz0Fw2YHdlOqwMS7',\n",
        "    'oauth_token':'948413893038125056-u5qBXf9dtb4aD4MJKewEIk75N7Tf40B',\n",
        "    'oauth_token_secret':'6pdoGlxNDFgHvB3Y1tTJVTTD3UXddCSf4ABBZVMh1xPxC' \n",
        "}\n",
        "\n",
        "# Creating an OAuth Client connection\n",
        "auth = OAuth1 (\n",
        "    auth_params['app_key'],\n",
        "    auth_params['app_secret'],\n",
        "    auth_params['oauth_token'],\n",
        "    auth_params['oauth_token_secret']\n",
        ")"
      ],
      "execution_count": null,
      "outputs": []
    },
    {
      "cell_type": "code",
      "metadata": {
        "id": "sRSLrUWNMPha"
      },
      "source": [
        "# url according to twitter API\n",
        "url_rest = \"https://api.twitter.com/1.1/search/tweets.json\"\n",
        "marathi_tweet = []\n",
        "tags=['corona','covid','india','कोरोना','coronavirus','कोविड','virus','who','UddhavThackeray','vaccine', \"mumbai\", \"Pune\", \"Nagpur\", 'लसीकरण', 'लस', 'corona','covid','india','कोरोना','coronavirus','कोविड','virus','who','UddhavThackeray','vaccine', \"mumbai\", \"Pune\", \"Nagpur\", 'लसीकरण', 'लस', 'पुणे', 'सांगली', 'मुंबई', 'दिल्ली' , 'नागपूर', 'औरंगाबाद', 'कोल्हापूर', 'संकट' , 'बेरोजगारी' , 'महामारी' , 'आर्थिक मंदी' , 'मंदी' , 'quarantine' , 'हॉस्पिटल' , 'hospital' , 'SARS' , 'मृत्यू' , 'सातारा' , 'दवाखाना' , 'इंजेकशन' , 'टिकाकरण' , 'शाळा' , 'महाविद्यालयं' , 'school' , 'शिक्षक' , 'विद्यार्थी']\n",
        "\n",
        "for i in tags:\n",
        "    # getting rid of retweets in the extraction results and filtering all replies to the tweet often uncessary for the analysis\n",
        "    q = '%'+ i +'% -filter:retweets -filter:replies' # Twitter handle of Amazon India\n",
        "\n",
        "    # count : no of tweets to be retrieved per one call and parameters according to twitter API\n",
        "    params = {'q': q, 'count':100, 'lang': 'mr',  'result_type': 'recent'}\n",
        "    results = requests.get(url_rest, params=params, auth=auth)\n",
        "\n",
        "    tweets = results.json()\n",
        "\n",
        "    messages = [BeautifulSoup(tweet['text'], 'html5lib').get_text() for tweet in tweets['statuses']]\n",
        "    marathi_tweet = marathi_tweet+messages\n",
        "\n"
      ],
      "execution_count": null,
      "outputs": []
    },
    {
      "cell_type": "code",
      "metadata": {
        "id": "SoRjnSI-MPh5"
      },
      "source": [
        "tweets = pd.DataFrame(marathi_tweet)"
      ],
      "execution_count": null,
      "outputs": []
    },
    {
      "cell_type": "code",
      "metadata": {
        "id": "ZdkGNgnKMPiB"
      },
      "source": [
        "tweets.to_csv('Marathi_dataset.csv',index=False)"
      ],
      "execution_count": null,
      "outputs": []
    }
  ]
}